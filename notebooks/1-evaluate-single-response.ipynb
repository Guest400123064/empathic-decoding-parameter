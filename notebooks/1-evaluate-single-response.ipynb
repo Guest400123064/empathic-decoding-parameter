{
 "cells": [
  {
   "cell_type": "code",
   "execution_count": null,
   "metadata": {},
   "outputs": [],
   "source": [
    "import os\n",
    "from pathlib import Path\n",
    "DIR_HOME = Path(os.getcwd()).parent\n",
    "DIR_CONVERSATION = DIR_HOME / \"data\" / \"conversations\"\n",
    "\n",
    "import sys\n",
    "sys.path.append(str(DIR_HOME))\n",
    "\n",
    "import json\n",
    "import pandas as pd\n",
    "with open(DIR_CONVERSATION / \"text-davinci-003-single-response.json\") as f:\n",
    "    responses = json.load(f)\n",
    "\n",
    "from src.utils import cohen_d, norm_diff_stdev\n",
    "from src.metrics import SentenceBERTDiversity, Length\n",
    "grp_metrics = [SentenceBERTDiversity(\"paraphrase-MiniLM-L3-v2\")]\n",
    "ind_metrics = [Length()]"
   ]
  },
  {
   "cell_type": "code",
   "execution_count": null,
   "metadata": {},
   "outputs": [],
   "source": [
    "for response in responses:\n",
    "    for metric in grp_metrics:\n",
    "        response[metric.name] = metric(response[\"completion\"])[0]\n",
    "    for metric in ind_metrics:\n",
    "        response[metric.name] = metric(response[\"completion\"])\n",
    "\n",
    "df_responses = pd.DataFrame(responses).set_index([\"qid\", \"cid\"])\n",
    "df_responses.head()"
   ]
  },
  {
   "cell_type": "code",
   "execution_count": null,
   "metadata": {},
   "outputs": [],
   "source": [
    "base_cid = 0\n",
    "last_cid = 10\n",
    "last_qid = 23\n",
    "\n",
    "print(\"\\nDiversity comparison >>>\")\n",
    "stats = []\n",
    "for cid in range((base_cid + 1), (last_cid + 1)):\n",
    "    diversity_base = df_responses.xs(base_cid, level=\"cid\").sentencebert_diversity.values\n",
    "    diversity_test = df_responses.xs(cid, level=\"cid\").sentencebert_diversity.values\n",
    "    stats.append({\"base_cfg\": base_cid,\n",
    "                  \"test_cfg\": cid,\n",
    "                  \"cohen_d\": f\"{cohen_d(diversity_base, diversity_test):.3f}\",\n",
    "                  \"norm_diff_stdev\": f\"{norm_diff_stdev(diversity_base, diversity_test):.3f}\"})\n",
    "print(pd.DataFrame(stats))\n",
    "\n",
    "print(\"\\nLength comparison >>>\")\n",
    "stats = []\n",
    "for cid in range((base_cid + 1), (last_cid + 1)):\n",
    "    for qid in range(last_qid + 1):\n",
    "        length_base = df_responses.xs((qid, base_cid), level=[\"qid\", \"cid\"]).length.values[0]\n",
    "        length_test = df_responses.xs((qid, cid), level=[\"qid\", \"cid\"]).length.values[0]\n",
    "        stats.append({\"base_cfg\": base_cid,\n",
    "                      \"test_cfg\": cid,\n",
    "                      \"qid\": qid,\n",
    "                      \"cohen_d\": f\"{cohen_d(length_base, length_test):.3f}\",\n",
    "                      \"norm_diff_stdev\": f\"{norm_diff_stdev(length_base, length_test):.3f}\"})\n",
    "print(pd.DataFrame(stats))"
   ]
  },
  {
   "cell_type": "code",
   "execution_count": null,
   "metadata": {},
   "outputs": [],
   "source": []
  }
 ],
 "metadata": {
  "kernelspec": {
   "display_name": "sample-param",
   "language": "python",
   "name": "python3"
  },
  "language_info": {
   "codemirror_mode": {
    "name": "ipython",
    "version": 3
   },
   "file_extension": ".py",
   "mimetype": "text/x-python",
   "name": "python",
   "nbconvert_exporter": "python",
   "pygments_lexer": "ipython3",
   "version": "3.9.16"
  },
  "orig_nbformat": 4,
  "vscode": {
   "interpreter": {
    "hash": "7176c8a8fec8106bebcfded629b77c184f81ece78847ffc2551c648c933401dd"
   }
  }
 },
 "nbformat": 4,
 "nbformat_minor": 2
}
