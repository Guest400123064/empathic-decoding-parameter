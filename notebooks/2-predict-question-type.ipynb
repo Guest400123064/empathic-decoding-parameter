{
 "cells": [
  {
   "cell_type": "code",
   "execution_count": 1,
   "metadata": {},
   "outputs": [],
   "source": [
    "from typing import Union, List, Dict, Tuple, Callable\n",
    "\n",
    "import os\n",
    "import pathlib\n",
    "os.environ['TF_CPP_MIN_LOG_LEVEL'] = '2'\n",
    "\n",
    "import json\n",
    "import pickle\n",
    "\n",
    "import sys\n",
    "sys.path.append(\"..\")\n",
    "\n",
    "import tqdm\n",
    "\n",
    "import numpy as np\n",
    "import pandas as pd\n",
    "\n",
    "from scipy.stats import chi2_contingency\n",
    "\n",
    "import tensorflow as tf\n",
    "from pytorch_transformers import RobertaTokenizer\n",
    "\n",
    "import matplotlib.pyplot as plt\n",
    "import seaborn as sns\n",
    "sns.set()\n",
    "\n",
    "from src.eqt.datasets import create_test_dataset_for_prediction\n",
    "from src.eqt.preprocess_data import preprocess_data\n",
    "from src.eqt.model_qbert import QBERT\n",
    "from src.eqt.model_utils import create_masks\n",
    "\n",
    "\n",
    "mappings = {\n",
    "    'type': {\n",
    "        'Ask about antecedent':  0,\n",
    "        'Ask about consequence': 1,\n",
    "        'Ask for confirmation':  2,\n",
    "        'Irony':                 3,\n",
    "        'Negative rhetoric':     4,\n",
    "        'Positive rhetoric':     5,\n",
    "        'Request information':   6,\n",
    "        'Suggest a reason':      7,\n",
    "        'Suggest a solution':    8,\n",
    "    },\n",
    "    'intent': {\n",
    "        'Amplify excitement': 0,\n",
    "        'Amplify joy':        1,\n",
    "        'Amplify pride':      2,\n",
    "        'De-escalate':        3,\n",
    "        'Express concern':    4,\n",
    "        'Express interest':   5,\n",
    "        'Moralize speaker':   6,\n",
    "        'Motivate':           7,\n",
    "        'Offer relief':       8,\n",
    "        'Pass judgement':     9,\n",
    "        'Support':           10,\n",
    "        'Sympathize':        11,\n",
    "    }\n",
    "}\n",
    "\n",
    "class_type = \"type\"\n",
    "peak_lr = 2e-5\n",
    "checkpoints_path = f\"../models/{class_type}\"\n",
    "data_path = \"../data/eqt/quest_df_all_labelled_intents.pickle\"\n",
    "restore_epoch = 3 if class_type == \"intent\" else 4"
   ]
  },
  {
   "cell_type": "code",
   "execution_count": 2,
   "metadata": {},
   "outputs": [
    {
     "name": "stdout",
     "output_type": "stream",
     "text": [
      "Checkpoint ../models/type/ckpt-4 restored!!!\n"
     ]
    }
   ],
   "source": [
    "# Load model checkpoint\n",
    "num_layers         = 12\n",
    "d_model            = 768\n",
    "num_heads          = 12\n",
    "dff                = d_model * 4\n",
    "hidden_act         = \"gelu\"\n",
    "dropout_rate       = 0.1\n",
    "layer_norm_eps     = 1e-5\n",
    "max_position_embed = 514\n",
    "\n",
    "tokenizer  = RobertaTokenizer.from_pretrained(\"roberta-base\")\n",
    "vocab_size = tokenizer.vocab_size\n",
    "\n",
    "lab_mapping  = mappings[class_type]\n",
    "pred_mapping = {v: k for k, v in lab_mapping.items()}\n",
    "num_classes  = len(pred_mapping.keys())\n",
    "\n",
    "adam_beta_1  = 0.9\n",
    "adam_beta_2  = 0.98\n",
    "adam_epsilon = 1e-6\n",
    "\n",
    "qbert = QBERT(num_layers, \n",
    "              d_model, \n",
    "              num_heads, \n",
    "              dff, \n",
    "              hidden_act, \n",
    "              dropout_rate,\n",
    "              layer_norm_eps, \n",
    "              max_position_embed, \n",
    "              vocab_size, \n",
    "              num_classes)\n",
    "optimizer = tf.keras.optimizers.legacy.Adam(peak_lr, \n",
    "                                            beta_1=adam_beta_1, \n",
    "                                            beta_2=adam_beta_2,\n",
    "                                            epsilon=adam_epsilon)\n",
    "ckpt = tf.train.Checkpoint(model=qbert, optimizer=optimizer)\n",
    "ckpt_manager = tf.train.CheckpointManager(ckpt, checkpoints_path, max_to_keep=None)\n",
    "ckpt.restore(ckpt_manager.checkpoints[restore_epoch - 1]).expect_partial()\n",
    "print('Checkpoint {} restored!!!'.format(ckpt_manager.checkpoints[restore_epoch - 1]))"
   ]
  },
  {
   "cell_type": "code",
   "execution_count": 3,
   "metadata": {},
   "outputs": [],
   "source": [
    "def get_label_source(row, class_tag):\n",
    "    if row[class_tag] != '':\n",
    "        return row['label_source']\n",
    "    return 'QBERT'\n",
    "\n",
    "\n",
    "def predict(test_dataset):\n",
    "    \n",
    "    y_pred = []\n",
    "    pred_ids = []\n",
    "    for inputs in tqdm.tqdm(test_dataset):\n",
    "        inp, weights, ids = inputs\n",
    "        enc_padding_mask = create_masks(inp)\n",
    "        pred_class = qbert(inp, weights, False, enc_padding_mask)\n",
    "        pred_class = np.argmax(pred_class.numpy(), axis=1)\n",
    "        y_pred += pred_class.tolist()\n",
    "        y_pred_lab = [pred_mapping[pred] for pred in y_pred]\n",
    "        pred_labels = np.array(y_pred_lab)\n",
    "        pred_ids += [idx.decode('utf-8') for idx in ids.numpy()]\n",
    "\n",
    "    return pred_labels, pred_ids"
   ]
  },
  {
   "attachments": {},
   "cell_type": "markdown",
   "metadata": {},
   "source": [
    "```\n",
    "# Load dataset\n",
    "with open(data_path, 'rb') as f:\n",
    "    quest_df = pickle.load(f)\n",
    "    quest_df['{}_source'.format(class_type)] = ''\n",
    "    quest_df['{}_source'.format(class_type)] = quest_df.apply(get_label_source, axis=1, class_tag=class_type)\n",
    "\n",
    "data = preprocess_data(data_path, class_type, drop_test=False)\n",
    "test_dataset = create_test_dataset_for_prediction(tokenizer, data, 32, 256, lab_mapping)\n",
    "predictions, ids = predict(test_dataset)\n",
    "```"
   ]
  },
  {
   "attachments": {},
   "cell_type": "markdown",
   "metadata": {},
   "source": [
    "## __Eval Self-chat Dialogues__\n",
    "\n",
    "### __Dialogue Preprocessing__\n",
    "\n",
    "We need to truncate dialogues in terms of both __turns__ and __questions__. Each turn will be separated by a newline character. This is how the EQT `create_test_dataset_for_prediction()` function identifies dialogue turns. Further, since the bot may ask more than one questions in each turn, we need to truncate the dialogues multiple times to have the input dialogue end with each question."
   ]
  },
  {
   "cell_type": "code",
   "execution_count": 4,
   "metadata": {},
   "outputs": [],
   "source": [
    "def format_dialogue(\n",
    "        dialogue: List[Dict[str, str]], \n",
    "        sep_char: str = \"\\n\",\n",
    "        key_content: str = \"text\"\n",
    "    ) -> str:\n",
    "    \"\"\"Simply concatenate the utterances of dialogue turns with a \n",
    "        `sep` character, which defaults to the newline character \n",
    "        to conform the EQT provided API.\"\"\"\n",
    "    \n",
    "    ret = sep_char.join(d[key_content] for d in dialogue)\n",
    "    return ret\n",
    "\n",
    "\n",
    "def generate_samples_from_dialogue(\n",
    "        dialogue: List[Dict[str, str]],\n",
    "        q_predictor: Callable[[str], bool] = None,\n",
    "        key_content: str = \"text\",\n",
    "        key_role: str = \"role\",\n",
    "        role_bot: str = \"therapist\",\n",
    "    ) -> List[str]:\n",
    "\n",
    "    from nltk.tokenize import sent_tokenize\n",
    "    \n",
    "    q_predictor = q_predictor or (lambda x: x.endswith(\"?\"))\n",
    "\n",
    "    ret = []\n",
    "    for i, d in enumerate(dialogue, start=1):\n",
    "        if d[key_role] == role_bot:\n",
    "            dialogue_truncated = dialogue[:i]\n",
    "\n",
    "            # Generate one sample for each question in \n",
    "            #   the bot's utterance\n",
    "            sentences_bot = sent_tokenize(d[key_content])\n",
    "            for j, s in enumerate(sentences_bot, start=1):\n",
    "                if q_predictor(s):\n",
    "                    d_cp = d.copy()\n",
    "                    d_cp[key_content] = \" \".join(sentences_bot[:j])\n",
    "                    sample = dialogue_truncated[:-1] + [d_cp]\n",
    "                    ret.append(format_dialogue(sample, key_content=key_content))\n",
    "    return ret"
   ]
  },
  {
   "cell_type": "code",
   "execution_count": 5,
   "metadata": {},
   "outputs": [],
   "source": [
    "path_dial_penalty = \"../data/conversations/hackathon-4turn-8dial-w-penalty.json\"\n",
    "path_dial_default = \"../data/conversations/hackathon-4turn-8dial-no-penalty.json\"\n",
    "\n",
    "with open(path_dial_penalty, \"r\") as f:\n",
    "    data_penalty = json.load(f)\n",
    "    dialogues_penalty = [d[\"dialogue\"] for d in data_penalty]\n",
    "\n",
    "with open(path_dial_default, \"r\") as f:\n",
    "    data_default = json.load(f)\n",
    "    dialogues_default = [d[\"dialogue\"] for d in data_default]"
   ]
  },
  {
   "cell_type": "code",
   "execution_count": 6,
   "metadata": {},
   "outputs": [
    {
     "data": {
      "text/html": [
       "<div>\n",
       "<style scoped>\n",
       "    .dataframe tbody tr th:only-of-type {\n",
       "        vertical-align: middle;\n",
       "    }\n",
       "\n",
       "    .dataframe tbody tr th {\n",
       "        vertical-align: top;\n",
       "    }\n",
       "\n",
       "    .dataframe thead th {\n",
       "        text-align: right;\n",
       "    }\n",
       "</style>\n",
       "<table border=\"1\" class=\"dataframe\">\n",
       "  <thead>\n",
       "    <tr style=\"text-align: right;\">\n",
       "      <th></th>\n",
       "      <th>utterance_truncated</th>\n",
       "      <th>id</th>\n",
       "    </tr>\n",
       "  </thead>\n",
       "  <tbody>\n",
       "    <tr>\n",
       "      <th>0</th>\n",
       "      <td>Hi Hal, I'm feeling really overwhelmed right n...</td>\n",
       "      <td>penalty-0</td>\n",
       "    </tr>\n",
       "    <tr>\n",
       "      <th>1</th>\n",
       "      <td>Hi Hal, I'm feeling really overwhelmed right n...</td>\n",
       "      <td>penalty-1</td>\n",
       "    </tr>\n",
       "    <tr>\n",
       "      <th>2</th>\n",
       "      <td>Hi Hal, I'm feeling really overwhelmed right n...</td>\n",
       "      <td>penalty-2</td>\n",
       "    </tr>\n",
       "    <tr>\n",
       "      <th>3</th>\n",
       "      <td>Hi Hal, I'm feeling really overwhelmed right n...</td>\n",
       "      <td>penalty-3</td>\n",
       "    </tr>\n",
       "    <tr>\n",
       "      <th>4</th>\n",
       "      <td>Hi Hal, I'm feeling really overwhelmed right n...</td>\n",
       "      <td>penalty-4</td>\n",
       "    </tr>\n",
       "  </tbody>\n",
       "</table>\n",
       "</div>"
      ],
      "text/plain": [
       "                                 utterance_truncated         id\n",
       "0  Hi Hal, I'm feeling really overwhelmed right n...  penalty-0\n",
       "1  Hi Hal, I'm feeling really overwhelmed right n...  penalty-1\n",
       "2  Hi Hal, I'm feeling really overwhelmed right n...  penalty-2\n",
       "3  Hi Hal, I'm feeling really overwhelmed right n...  penalty-3\n",
       "4  Hi Hal, I'm feeling really overwhelmed right n...  penalty-4"
      ]
     },
     "execution_count": 6,
     "metadata": {},
     "output_type": "execute_result"
    }
   ],
   "source": [
    "samples_penalty = [generate_samples_from_dialogue(d) for d in dialogues_penalty]\n",
    "samples_penalty = [s for ss in samples_penalty for s in ss]\n",
    "samples_penalty = pd.DataFrame({'utterance_truncated': samples_penalty})\n",
    "samples_penalty[\"id\"] = samples_penalty.index.map(lambda i: f'penalty-{i}')\n",
    "\n",
    "samples_default = [generate_samples_from_dialogue(d) for d in dialogues_default]\n",
    "samples_default = [s for ss in samples_default for s in ss]\n",
    "samples_default = pd.DataFrame({'utterance_truncated': samples_default})\n",
    "samples_default[\"id\"] = samples_default.index.map(lambda i: f'default-{i}')\n",
    "\n",
    "samples = pd.concat([samples_penalty, samples_default], axis=0)\n",
    "samples.head()"
   ]
  },
  {
   "cell_type": "code",
   "execution_count": 7,
   "metadata": {},
   "outputs": [
    {
     "name": "stdout",
     "output_type": "stream",
     "text": [
      "Vocabulary size is 50265.\n"
     ]
    },
    {
     "name": "stderr",
     "output_type": "stream",
     "text": [
      "100%|██████████| 798/798 [00:00<00:00, 950.41it/s]\n"
     ]
    },
    {
     "name": "stdout",
     "output_type": "stream",
     "text": [
      "Created dataset with 798 examples.\n"
     ]
    },
    {
     "name": "stderr",
     "output_type": "stream",
     "text": [
      "100%|██████████| 25/25 [00:17<00:00,  1.46it/s]\n"
     ]
    }
   ],
   "source": [
    "test_dataset = create_test_dataset_for_prediction(tokenizer, samples, 32, 256, lab_mapping)\n",
    "predictions, ids = predict(test_dataset)"
   ]
  },
  {
   "cell_type": "code",
   "execution_count": 8,
   "metadata": {},
   "outputs": [
    {
     "data": {
      "text/html": [
       "<div>\n",
       "<style scoped>\n",
       "    .dataframe tbody tr th:only-of-type {\n",
       "        vertical-align: middle;\n",
       "    }\n",
       "\n",
       "    .dataframe tbody tr th {\n",
       "        vertical-align: top;\n",
       "    }\n",
       "\n",
       "    .dataframe thead th {\n",
       "        text-align: right;\n",
       "    }\n",
       "</style>\n",
       "<table border=\"1\" class=\"dataframe\">\n",
       "  <thead>\n",
       "    <tr style=\"text-align: right;\">\n",
       "      <th></th>\n",
       "      <th>id</th>\n",
       "      <th>type_prediction</th>\n",
       "      <th>utterance_truncated</th>\n",
       "      <th>set_id</th>\n",
       "    </tr>\n",
       "  </thead>\n",
       "  <tbody>\n",
       "    <tr>\n",
       "      <th>0</th>\n",
       "      <td>penalty-0</td>\n",
       "      <td>Request information</td>\n",
       "      <td>Hi Hal, I'm feeling really overwhelmed right n...</td>\n",
       "      <td>penalty</td>\n",
       "    </tr>\n",
       "    <tr>\n",
       "      <th>1</th>\n",
       "      <td>penalty-1</td>\n",
       "      <td>Suggest a solution</td>\n",
       "      <td>Hi Hal, I'm feeling really overwhelmed right n...</td>\n",
       "      <td>penalty</td>\n",
       "    </tr>\n",
       "    <tr>\n",
       "      <th>2</th>\n",
       "      <td>penalty-2</td>\n",
       "      <td>Suggest a solution</td>\n",
       "      <td>Hi Hal, I'm feeling really overwhelmed right n...</td>\n",
       "      <td>penalty</td>\n",
       "    </tr>\n",
       "    <tr>\n",
       "      <th>3</th>\n",
       "      <td>penalty-3</td>\n",
       "      <td>Request information</td>\n",
       "      <td>Hi Hal, I'm feeling really overwhelmed right n...</td>\n",
       "      <td>penalty</td>\n",
       "    </tr>\n",
       "    <tr>\n",
       "      <th>4</th>\n",
       "      <td>penalty-4</td>\n",
       "      <td>Request information</td>\n",
       "      <td>Hi Hal, I'm feeling really overwhelmed right n...</td>\n",
       "      <td>penalty</td>\n",
       "    </tr>\n",
       "  </tbody>\n",
       "</table>\n",
       "</div>"
      ],
      "text/plain": [
       "          id      type_prediction  \\\n",
       "0  penalty-0  Request information   \n",
       "1  penalty-1   Suggest a solution   \n",
       "2  penalty-2   Suggest a solution   \n",
       "3  penalty-3  Request information   \n",
       "4  penalty-4  Request information   \n",
       "\n",
       "                                 utterance_truncated   set_id  \n",
       "0  Hi Hal, I'm feeling really overwhelmed right n...  penalty  \n",
       "1  Hi Hal, I'm feeling really overwhelmed right n...  penalty  \n",
       "2  Hi Hal, I'm feeling really overwhelmed right n...  penalty  \n",
       "3  Hi Hal, I'm feeling really overwhelmed right n...  penalty  \n",
       "4  Hi Hal, I'm feeling really overwhelmed right n...  penalty  "
      ]
     },
     "execution_count": 8,
     "metadata": {},
     "output_type": "execute_result"
    }
   ],
   "source": [
    "df_pred = pd.DataFrame({'id': ids, f'{class_type}_prediction': predictions})\n",
    "df_pred = pd.merge(df_pred, samples, on='id', how='left')\n",
    "df_pred[\"set_id\"] = df_pred[\"id\"].map(lambda x: x.split(\"-\")[0])\n",
    "df_pred.head()"
   ]
  },
  {
   "cell_type": "code",
   "execution_count": 9,
   "metadata": {},
   "outputs": [
    {
     "data": {
      "image/png": "[encoded data removed]",
      "text/plain": [
       "<Figure size 750x600 with 1 Axes>"
      ]
     },
     "metadata": {},
     "output_type": "display_data"
    }
   ],
   "source": [
    "# Plot the distribution (frequency) of question \n",
    "#   types by `set_id`\n",
    "df_vis = df_pred.groupby([\"set_id\"])[f\"{class_type}_prediction\"] \\\n",
    "                .value_counts(normalize=True) \\\n",
    "                .rename(\"percentage\") \\\n",
    "                .mul(100) \\\n",
    "                .reset_index() \\\n",
    "                .sort_values([\"set_id\", \"percentage\"], ascending=False)\n",
    "\n",
    "fig, ax = plt.subplots(figsize=(2.5 * df_vis[f\"{class_type}_prediction\"].nunique(), 6))\n",
    "sns.barplot(x=f\"{class_type}_prediction\", \n",
    "            y=\"percentage\", \n",
    "            hue=\"set_id\", \n",
    "            data=df_vis, \n",
    "            ax=ax)\n",
    "\n",
    "ax.set_title(f\"Predicted Question {class_type.title()} Distribution\")\n",
    "ax.set_xlabel(f\"Predicted Question {class_type.title()}\")\n",
    "ax.set_ylabel(\"Frequency (%)\")\n",
    "ax.legend(title=\"Set ID\")\n",
    "\n",
    "for p in ax.patches:\n",
    "    ax.text(x=p.get_x() + p.get_width() / 6, \n",
    "            y=p.get_height(), \n",
    "            s=f'{p.get_height().round(2)}%')"
   ]
  },
  {
   "cell_type": "code",
   "execution_count": 12,
   "metadata": {},
   "outputs": [
    {
     "data": {
      "text/html": [
       "<div>\n",
       "<style scoped>\n",
       "    .dataframe tbody tr th:only-of-type {\n",
       "        vertical-align: middle;\n",
       "    }\n",
       "\n",
       "    .dataframe tbody tr th {\n",
       "        vertical-align: top;\n",
       "    }\n",
       "\n",
       "    .dataframe thead th {\n",
       "        text-align: right;\n",
       "    }\n",
       "</style>\n",
       "<table border=\"1\" class=\"dataframe\">\n",
       "  <thead>\n",
       "    <tr style=\"text-align: right;\">\n",
       "      <th>type_prediction</th>\n",
       "      <th>Ask about antecedent</th>\n",
       "      <th>Request information</th>\n",
       "      <th>Suggest a solution</th>\n",
       "    </tr>\n",
       "    <tr>\n",
       "      <th>set_id</th>\n",
       "      <th></th>\n",
       "      <th></th>\n",
       "      <th></th>\n",
       "    </tr>\n",
       "  </thead>\n",
       "  <tbody>\n",
       "    <tr>\n",
       "      <th>default</th>\n",
       "      <td>13</td>\n",
       "      <td>303</td>\n",
       "      <td>95</td>\n",
       "    </tr>\n",
       "    <tr>\n",
       "      <th>penalty</th>\n",
       "      <td>15</td>\n",
       "      <td>291</td>\n",
       "      <td>81</td>\n",
       "    </tr>\n",
       "  </tbody>\n",
       "</table>\n",
       "</div>"
      ],
      "text/plain": [
       "type_prediction  Ask about antecedent  Request information  Suggest a solution\n",
       "set_id                                                                        \n",
       "default                            13                  303                  95\n",
       "penalty                            15                  291                  81"
      ]
     },
     "execution_count": 12,
     "metadata": {},
     "output_type": "execute_result"
    }
   ],
   "source": [
    "# Chi-square test to compare the distribution of\n",
    "#   question types between the two sets\n",
    "df_chisq = df_pred.loc[df_pred[f\"{class_type}_prediction\"].map(lambda s: not s in {\"Express interest\", \"Request information\"})] \\\n",
    "                  .groupby([\"set_id\"])[f\"{class_type}_prediction\"] \\\n",
    "                  .value_counts() \\\n",
    "                  .rename(\"count\") \\\n",
    "                  .reset_index() \\\n",
    "                  .pivot(index=\"set_id\", columns=f\"{class_type}_prediction\", values=\"count\")\n",
    "df_chisq"
   ]
  },
  {
   "cell_type": "code",
   "execution_count": 13,
   "metadata": {},
   "outputs": [
    {
     "name": "stdout",
     "output_type": "stream",
     "text": [
      "Chi-square statistic: 0.7778167860921223\n",
      "P-value: 0.6777963580298305\n",
      "Degrees of freedom: 2\n",
      "Expected frequencies: [[ 14.42105263 305.93233083  90.64661654]\n",
      " [ 13.57894737 288.06766917  85.35338346]]\n"
     ]
    }
   ],
   "source": [
    "# Perform chi-square test\n",
    "chi2_stat, p_val, dof, expected = chi2_contingency(df_chisq.values)\n",
    "\n",
    "# Print the results\n",
    "print(\"Chi-square statistic:\", chi2_stat)\n",
    "print(\"P-value:\", p_val)\n",
    "print(\"Degrees of freedom:\", dof)\n",
    "print(\"Expected frequencies:\", expected)"
   ]
  },
  {
   "cell_type": "code",
   "execution_count": null,
   "metadata": {},
   "outputs": [],
   "source": []
  }
 ],
 "metadata": {
  "kernelspec": {
   "display_name": "sample-param",
   "language": "python",
   "name": "python3"
  },
  "language_info": {
   "codemirror_mode": {
    "name": "ipython",
    "version": 3
   },
   "file_extension": ".py",
   "mimetype": "text/x-python",
   "name": "python",
   "nbconvert_exporter": "python",
   "pygments_lexer": "ipython3",
   "version": "3.9.16"
  },
  "orig_nbformat": 4
 },
 "nbformat": 4,
 "nbformat_minor": 2
}
