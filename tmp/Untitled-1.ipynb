{
 "cells": [
  {
   "cell_type": "code",
   "execution_count": 1,
   "metadata": {},
   "outputs": [],
   "source": [
    "import pandas as pd"
   ]
  },
  {
   "cell_type": "code",
   "execution_count": 2,
   "metadata": {},
   "outputs": [
    {
     "data": {
      "text/html": [
       "<div>\n",
       "<style scoped>\n",
       "    .dataframe tbody tr th:only-of-type {\n",
       "        vertical-align: middle;\n",
       "    }\n",
       "\n",
       "    .dataframe tbody tr th {\n",
       "        vertical-align: top;\n",
       "    }\n",
       "\n",
       "    .dataframe thead th {\n",
       "        text-align: right;\n",
       "    }\n",
       "</style>\n",
       "<table border=\"1\" class=\"dataframe\">\n",
       "  <thead>\n",
       "    <tr style=\"text-align: right;\">\n",
       "      <th></th>\n",
       "      <th>question</th>\n",
       "      <th>response</th>\n",
       "      <th>model</th>\n",
       "      <th>max_tokens</th>\n",
       "      <th>stop</th>\n",
       "      <th>prompt</th>\n",
       "      <th>temperature</th>\n",
       "      <th>frequency_penalty</th>\n",
       "    </tr>\n",
       "  </thead>\n",
       "  <tbody>\n",
       "    <tr>\n",
       "      <th>0</th>\n",
       "      <td>How do birthday cakes make you feel?</td>\n",
       "      <td>Birthday cakes make me feel both happy and sad...</td>\n",
       "      <td>text-davinci-003</td>\n",
       "      <td>128</td>\n",
       "      <td>[Therapist:, Patient:]</td>\n",
       "      <td>Below is a conversation between a patient and ...</td>\n",
       "      <td>0.7</td>\n",
       "      <td>0.01</td>\n",
       "    </tr>\n",
       "    <tr>\n",
       "      <th>1</th>\n",
       "      <td>How do birthday cakes make you feel?</td>\n",
       "      <td>Birthday cakes make me feel nostalgic. I alway...</td>\n",
       "      <td>text-davinci-003</td>\n",
       "      <td>128</td>\n",
       "      <td>[Therapist:, Patient:]</td>\n",
       "      <td>Below is a conversation between a patient and ...</td>\n",
       "      <td>0.7</td>\n",
       "      <td>0.01</td>\n",
       "    </tr>\n",
       "    <tr>\n",
       "      <th>2</th>\n",
       "      <td>How do birthday cakes make you feel?</td>\n",
       "      <td>Birthdays cakes make me feel excited and happy...</td>\n",
       "      <td>text-davinci-003</td>\n",
       "      <td>128</td>\n",
       "      <td>[Therapist:, Patient:]</td>\n",
       "      <td>Below is a conversation between a patient and ...</td>\n",
       "      <td>0.7</td>\n",
       "      <td>0.01</td>\n",
       "    </tr>\n",
       "    <tr>\n",
       "      <th>3</th>\n",
       "      <td>How do birthday cakes make you feel?</td>\n",
       "      <td>Birthday cakes make me feel nostalgic and happ...</td>\n",
       "      <td>text-davinci-003</td>\n",
       "      <td>128</td>\n",
       "      <td>[Therapist:, Patient:]</td>\n",
       "      <td>Below is a conversation between a patient and ...</td>\n",
       "      <td>0.7</td>\n",
       "      <td>0.10</td>\n",
       "    </tr>\n",
       "    <tr>\n",
       "      <th>4</th>\n",
       "      <td>How do birthday cakes make you feel?</td>\n",
       "      <td>Birthday cakes make me feel really happy and e...</td>\n",
       "      <td>text-davinci-003</td>\n",
       "      <td>128</td>\n",
       "      <td>[Therapist:, Patient:]</td>\n",
       "      <td>Below is a conversation between a patient and ...</td>\n",
       "      <td>0.7</td>\n",
       "      <td>0.10</td>\n",
       "    </tr>\n",
       "  </tbody>\n",
       "</table>\n",
       "</div>"
      ],
      "text/plain": [
       "                               question  \\\n",
       "0  How do birthday cakes make you feel?   \n",
       "1  How do birthday cakes make you feel?   \n",
       "2  How do birthday cakes make you feel?   \n",
       "3  How do birthday cakes make you feel?   \n",
       "4  How do birthday cakes make you feel?   \n",
       "\n",
       "                                            response             model  \\\n",
       "0  Birthday cakes make me feel both happy and sad...  text-davinci-003   \n",
       "1  Birthday cakes make me feel nostalgic. I alway...  text-davinci-003   \n",
       "2  Birthdays cakes make me feel excited and happy...  text-davinci-003   \n",
       "3  Birthday cakes make me feel nostalgic and happ...  text-davinci-003   \n",
       "4  Birthday cakes make me feel really happy and e...  text-davinci-003   \n",
       "\n",
       "   max_tokens                    stop  \\\n",
       "0         128  [Therapist:, Patient:]   \n",
       "1         128  [Therapist:, Patient:]   \n",
       "2         128  [Therapist:, Patient:]   \n",
       "3         128  [Therapist:, Patient:]   \n",
       "4         128  [Therapist:, Patient:]   \n",
       "\n",
       "                                              prompt  temperature  \\\n",
       "0  Below is a conversation between a patient and ...          0.7   \n",
       "1  Below is a conversation between a patient and ...          0.7   \n",
       "2  Below is a conversation between a patient and ...          0.7   \n",
       "3  Below is a conversation between a patient and ...          0.7   \n",
       "4  Below is a conversation between a patient and ...          0.7   \n",
       "\n",
       "   frequency_penalty  \n",
       "0               0.01  \n",
       "1               0.01  \n",
       "2               0.01  \n",
       "3               0.10  \n",
       "4               0.10  "
      ]
     },
     "execution_count": 2,
     "metadata": {},
     "output_type": "execute_result"
    }
   ],
   "source": [
    "df = pd.read_json(\"../data/text-davinci-003-single-response.json\") \\\n",
    "       .sort_values([\"question\", \"temperature\", \"frequency_penalty\"]) \\\n",
    "       .reset_index(drop=True)\n",
    "df.head()"
   ]
  },
  {
   "cell_type": "code",
   "execution_count": 3,
   "metadata": {},
   "outputs": [],
   "source": [
    "df.to_excel(\"../data/text-davinci-003-single-response.xlsx\", index=False)"
   ]
  },
  {
   "cell_type": "code",
   "execution_count": 5,
   "metadata": {},
   "outputs": [],
   "source": [
    "#import random \n",
    "import random\n",
    "def random_generate(lower = -1000, upper = 1000, num = 30):\n",
    "    testx = []\n",
    "    testy = []\n",
    "    for i in range(num):\n",
    "        testx.append(random.randint(lower, upper))\n",
    "        testy.append(random.randint(lower, upper))\n",
    "    return testx, testy\n"
   ]
  },
  {
   "cell_type": "code",
   "execution_count": 7,
   "metadata": {},
   "outputs": [
    {
     "data": {
      "text/plain": [
       "[-240,\n",
       " 216,\n",
       " 269,\n",
       " -919,\n",
       " -665,\n",
       " -52,\n",
       " 328,\n",
       " -740,\n",
       " -825,\n",
       " 127,\n",
       " -734,\n",
       " 885,\n",
       " -574,\n",
       " -103,\n",
       " -529,\n",
       " 886,\n",
       " -748,\n",
       " -13,\n",
       " 940,\n",
       " 292,\n",
       " -638,\n",
       " -560,\n",
       " -83,\n",
       " -45,\n",
       " 926,\n",
       " 700,\n",
       " -938,\n",
       " -148,\n",
       " 164,\n",
       " -584]"
      ]
     },
     "execution_count": 7,
     "metadata": {},
     "output_type": "execute_result"
    }
   ],
   "source": [
    "a,b = random_generate()"
   ]
  },
  {
   "cell_type": "code",
   "execution_count": 39,
   "metadata": {},
   "outputs": [],
   "source": [
    "def fs(x):\n",
    "    hash = set([1,1])\n",
    "    prev = 1\n",
    "    curr = 1\n",
    "    for i in range(1000):\n",
    "        tmp = prev + curr \n",
    "        prev = curr\n",
    "        curr = tmp\n",
    "        hash.add(curr)\n",
    "    print(len(str(curr)))\n",
    "    ret = []\n",
    "\n",
    "    for i in x:\n",
    "        condition = False\n",
    "        if i == 2:\n",
    "            ret.append(True)\n",
    "            continue\n",
    "        else:\n",
    "            condition = False\n",
    "            for n in hash:\n",
    "                if i-n in hash:\n",
    "                    ret.append(True)\n",
    "                    condition = True\n",
    "                    break\n",
    "            if condition == False:\n",
    "                ret.append(False)\n",
    "    return ret\n",
    "\n"
   ]
  },
  {
   "cell_type": "code",
   "execution_count": 40,
   "metadata": {},
   "outputs": [
    {
     "name": "stdout",
     "output_type": "stream",
     "text": [
      "210\n"
     ]
    },
    {
     "data": {
      "text/plain": [
       "[True, True, True]"
      ]
     },
     "execution_count": 40,
     "metadata": {},
     "output_type": "execute_result"
    }
   ],
   "source": [
    "fs([2,2,5])"
   ]
  },
  {
   "cell_type": "code",
   "execution_count": 43,
   "metadata": {},
   "outputs": [],
   "source": [
    "x,y = random_generate(lower = 0, upper = 10**18, num = 5000)"
   ]
  },
  {
   "cell_type": "code",
   "execution_count": 44,
   "metadata": {},
   "outputs": [
    {
     "name": "stdout",
     "output_type": "stream",
     "text": [
      "210\n",
      "Time:  0.4764957000006689\n"
     ]
    }
   ],
   "source": [
    "import timeit\n",
    "\n",
    "start = timeit.default_timer()\n",
    "fs(x)\n",
    "stop = timeit.default_timer()\n",
    "print('Time: ', stop - start)"
   ]
  },
  {
   "cell_type": "code",
   "execution_count": null,
   "metadata": {},
   "outputs": [],
   "source": []
  }
 ],
 "metadata": {
  "kernelspec": {
   "display_name": "sample-param",
   "language": "python",
   "name": "python3"
  },
  "language_info": {
   "codemirror_mode": {
    "name": "ipython",
    "version": 3
   },
   "file_extension": ".py",
   "mimetype": "text/x-python",
   "name": "python",
   "nbconvert_exporter": "python",
   "pygments_lexer": "ipython3",
   "version": "3.9.16"
  },
  "orig_nbformat": 4,
  "vscode": {
   "interpreter": {
    "hash": "7176c8a8fec8106bebcfded629b77c184f81ece78847ffc2551c648c933401dd"
   }
  }
 },
 "nbformat": 4,
 "nbformat_minor": 2
}
