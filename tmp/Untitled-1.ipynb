{
 "cells": [
  {
   "cell_type": "code",
   "execution_count": 1,
   "metadata": {},
   "outputs": [],
   "source": [
    "import os\n",
    "from pathlib import Path\n",
    "DIR_CONVERSATION = Path(os.getcwd()).parent / \"data\" / \"conversations\"\n",
    "\n",
    "from collections import defaultdict\n",
    "import json\n",
    "\n"
   ]
  },
  {
   "cell_type": "code",
   "execution_count": 2,
   "metadata": {},
   "outputs": [],
   "source": [
    "with open(DIR_CONVERSATION / \"text-davinci-003-single-response.json\") as f:\n",
    "    list_q   = set()\n",
    "    dict_q2a = defaultdict(list)\n",
    "    for data in json.load(f):\n",
    "        question = data[\"question\"]\n",
    "        list_q.add(question)\n",
    "        dict_q2a[question].append(data)\n",
    "    list_q = list(list_q)"
   ]
  },
  {
   "cell_type": "code",
   "execution_count": 3,
   "metadata": {},
   "outputs": [
    {
     "data": {
      "text/plain": [
       "24"
      ]
     },
     "execution_count": 3,
     "metadata": {},
     "output_type": "execute_result"
    }
   ],
   "source": [
    "len(list_q)"
   ]
  },
  {
   "cell_type": "code",
   "execution_count": null,
   "metadata": {},
   "outputs": [],
   "source": []
  }
 ],
 "metadata": {
  "kernelspec": {
   "display_name": "sample-param",
   "language": "python",
   "name": "python3"
  },
  "language_info": {
   "codemirror_mode": {
    "name": "ipython",
    "version": 3
   },
   "file_extension": ".py",
   "mimetype": "text/x-python",
   "name": "python",
   "nbconvert_exporter": "python",
   "pygments_lexer": "ipython3",
   "version": "3.9.16"
  },
  "orig_nbformat": 4,
  "vscode": {
   "interpreter": {
    "hash": "7176c8a8fec8106bebcfded629b77c184f81ece78847ffc2551c648c933401dd"
   }
  }
 },
 "nbformat": 4,
 "nbformat_minor": 2
}
