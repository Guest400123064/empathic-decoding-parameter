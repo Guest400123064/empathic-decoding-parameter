{
 "cells": [
  {
   "cell_type": "code",
   "execution_count": 1,
   "metadata": {},
   "outputs": [],
   "source": [
    "import pandas as pd"
   ]
  },
  {
   "cell_type": "code",
   "execution_count": 2,
   "metadata": {},
   "outputs": [
    {
     "data": {
      "text/html": [
       "<div>\n",
       "<style scoped>\n",
       "    .dataframe tbody tr th:only-of-type {\n",
       "        vertical-align: middle;\n",
       "    }\n",
       "\n",
       "    .dataframe tbody tr th {\n",
       "        vertical-align: top;\n",
       "    }\n",
       "\n",
       "    .dataframe thead th {\n",
       "        text-align: right;\n",
       "    }\n",
       "</style>\n",
       "<table border=\"1\" class=\"dataframe\">\n",
       "  <thead>\n",
       "    <tr style=\"text-align: right;\">\n",
       "      <th></th>\n",
       "      <th>question</th>\n",
       "      <th>response</th>\n",
       "      <th>model</th>\n",
       "      <th>max_tokens</th>\n",
       "      <th>stop</th>\n",
       "      <th>prompt</th>\n",
       "      <th>temperature</th>\n",
       "      <th>frequency_penalty</th>\n",
       "    </tr>\n",
       "  </thead>\n",
       "  <tbody>\n",
       "    <tr>\n",
       "      <th>0</th>\n",
       "      <td>How do birthday cakes make you feel?</td>\n",
       "      <td>Birthday cakes make me feel both happy and sad...</td>\n",
       "      <td>text-davinci-003</td>\n",
       "      <td>128</td>\n",
       "      <td>[Therapist:, Patient:]</td>\n",
       "      <td>Below is a conversation between a patient and ...</td>\n",
       "      <td>0.7</td>\n",
       "      <td>0.01</td>\n",
       "    </tr>\n",
       "    <tr>\n",
       "      <th>1</th>\n",
       "      <td>How do birthday cakes make you feel?</td>\n",
       "      <td>Birthday cakes make me feel nostalgic. I alway...</td>\n",
       "      <td>text-davinci-003</td>\n",
       "      <td>128</td>\n",
       "      <td>[Therapist:, Patient:]</td>\n",
       "      <td>Below is a conversation between a patient and ...</td>\n",
       "      <td>0.7</td>\n",
       "      <td>0.01</td>\n",
       "    </tr>\n",
       "    <tr>\n",
       "      <th>2</th>\n",
       "      <td>How do birthday cakes make you feel?</td>\n",
       "      <td>Birthdays cakes make me feel excited and happy...</td>\n",
       "      <td>text-davinci-003</td>\n",
       "      <td>128</td>\n",
       "      <td>[Therapist:, Patient:]</td>\n",
       "      <td>Below is a conversation between a patient and ...</td>\n",
       "      <td>0.7</td>\n",
       "      <td>0.01</td>\n",
       "    </tr>\n",
       "    <tr>\n",
       "      <th>3</th>\n",
       "      <td>How do birthday cakes make you feel?</td>\n",
       "      <td>Birthday cakes make me feel nostalgic and happ...</td>\n",
       "      <td>text-davinci-003</td>\n",
       "      <td>128</td>\n",
       "      <td>[Therapist:, Patient:]</td>\n",
       "      <td>Below is a conversation between a patient and ...</td>\n",
       "      <td>0.7</td>\n",
       "      <td>0.10</td>\n",
       "    </tr>\n",
       "    <tr>\n",
       "      <th>4</th>\n",
       "      <td>How do birthday cakes make you feel?</td>\n",
       "      <td>Birthday cakes make me feel really happy and e...</td>\n",
       "      <td>text-davinci-003</td>\n",
       "      <td>128</td>\n",
       "      <td>[Therapist:, Patient:]</td>\n",
       "      <td>Below is a conversation between a patient and ...</td>\n",
       "      <td>0.7</td>\n",
       "      <td>0.10</td>\n",
       "    </tr>\n",
       "  </tbody>\n",
       "</table>\n",
       "</div>"
      ],
      "text/plain": [
       "                               question  \\\n",
       "0  How do birthday cakes make you feel?   \n",
       "1  How do birthday cakes make you feel?   \n",
       "2  How do birthday cakes make you feel?   \n",
       "3  How do birthday cakes make you feel?   \n",
       "4  How do birthday cakes make you feel?   \n",
       "\n",
       "                                            response             model  \\\n",
       "0  Birthday cakes make me feel both happy and sad...  text-davinci-003   \n",
       "1  Birthday cakes make me feel nostalgic. I alway...  text-davinci-003   \n",
       "2  Birthdays cakes make me feel excited and happy...  text-davinci-003   \n",
       "3  Birthday cakes make me feel nostalgic and happ...  text-davinci-003   \n",
       "4  Birthday cakes make me feel really happy and e...  text-davinci-003   \n",
       "\n",
       "   max_tokens                    stop  \\\n",
       "0         128  [Therapist:, Patient:]   \n",
       "1         128  [Therapist:, Patient:]   \n",
       "2         128  [Therapist:, Patient:]   \n",
       "3         128  [Therapist:, Patient:]   \n",
       "4         128  [Therapist:, Patient:]   \n",
       "\n",
       "                                              prompt  temperature  \\\n",
       "0  Below is a conversation between a patient and ...          0.7   \n",
       "1  Below is a conversation between a patient and ...          0.7   \n",
       "2  Below is a conversation between a patient and ...          0.7   \n",
       "3  Below is a conversation between a patient and ...          0.7   \n",
       "4  Below is a conversation between a patient and ...          0.7   \n",
       "\n",
       "   frequency_penalty  \n",
       "0               0.01  \n",
       "1               0.01  \n",
       "2               0.01  \n",
       "3               0.10  \n",
       "4               0.10  "
      ]
     },
     "execution_count": 2,
     "metadata": {},
     "output_type": "execute_result"
    }
   ],
   "source": [
    "df = pd.read_json(\"../data/text-davinci-003-single-response.json\") \\\n",
    "       .sort_values([\"question\", \"temperature\", \"frequency_penalty\"]) \\\n",
    "       .reset_index(drop=True)\n",
    "df.head()"
   ]
  },
  {
   "cell_type": "code",
   "execution_count": 3,
   "metadata": {},
   "outputs": [],
   "source": [
    "df.to_excel(\"../data/text-davinci-003-single-response.xlsx\", index=False)"
   ]
  },
  {
   "cell_type": "code",
   "execution_count": null,
   "metadata": {},
   "outputs": [],
   "source": []
  }
 ],
 "metadata": {
  "kernelspec": {
   "display_name": "sample-param",
   "language": "python",
   "name": "python3"
  },
  "language_info": {
   "codemirror_mode": {
    "name": "ipython",
    "version": 3
   },
   "file_extension": ".py",
   "mimetype": "text/x-python",
   "name": "python",
   "nbconvert_exporter": "python",
   "pygments_lexer": "ipython3",
   "version": "3.9.16"
  },
  "orig_nbformat": 4,
  "vscode": {
   "interpreter": {
    "hash": "7176c8a8fec8106bebcfded629b77c184f81ece78847ffc2551c648c933401dd"
   }
  }
 },
 "nbformat": 4,
 "nbformat_minor": 2
}
